{
  "nbformat": 4,
  "nbformat_minor": 0,
  "metadata": {
    "colab": {
      "provenance": []
    },
    "kernelspec": {
      "name": "python3",
      "display_name": "Python 3"
    },
    "language_info": {
      "name": "python"
    }
  },
  "cells": [
    {
      "cell_type": "code",
      "execution_count": 2,
      "metadata": {
        "colab": {
          "base_uri": "https://localhost:8080/"
        },
        "id": "NbKFLSrIRIM9",
        "outputId": "1fe5dbe2-bbc7-4b4d-d076-6c6eae7f8307"
      },
      "outputs": [
        {
          "output_type": "stream",
          "name": "stdout",
          "text": [
            "Lukaは大人です。\n",
            "LBJは大人です。\n",
            "Hachimuraは大人です。\n"
          ]
        }
      ],
      "source": [
        "class Human:\n",
        "    def __init__(self, name, age):\n",
        "        self.name = name\n",
        "        self.age = age\n",
        "\n",
        "    def check_adult(self, age):\n",
        "        if age >= 20:\n",
        "            print(f\"{self.name}は大人です。\")\n",
        "        else:\n",
        "            print(f\"{self.name}は大人ではありません。\")\n",
        "\n",
        "humans = []\n",
        "human1 = Human(\"Luka\", 26)\n",
        "human2 = Human(\"LBJ\", 40)\n",
        "human3 = Human(\"Hachimura\", 27)\n",
        "humans.append(human1)\n",
        "humans.append(human2)\n",
        "humans.append(human3)\n",
        "\n",
        "for human in humans:\n",
        "    human.check_adult(human.age)"
      ]
    }
  ]
}