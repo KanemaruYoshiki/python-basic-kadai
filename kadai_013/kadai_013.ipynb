{
  "nbformat": 4,
  "nbformat_minor": 0,
  "metadata": {
    "colab": {
      "provenance": []
    },
    "kernelspec": {
      "name": "python3",
      "display_name": "Python 3"
    },
    "language_info": {
      "name": "python"
    }
  },
  "cells": [
    {
      "cell_type": "code",
      "execution_count": 2,
      "metadata": {
        "colab": {
          "base_uri": "https://localhost:8080/"
        },
        "id": "4lEkIswRqBuU",
        "outputId": "f009b610-f21d-4d83-e697-6c738d8fe191"
      },
      "outputs": [
        {
          "output_type": "execute_result",
          "data": {
            "text/plain": [
              "121.0"
            ]
          },
          "metadata": {},
          "execution_count": 2
        }
      ],
      "source": [
        "def price_with_tax(price: int, tax_rate: int) -> float:\n",
        "    total = price + (price * tax_rate / 100)\n",
        "    return total\n",
        "\n",
        "price_with_tax(110, 10)"
      ]
    }
  ]
}